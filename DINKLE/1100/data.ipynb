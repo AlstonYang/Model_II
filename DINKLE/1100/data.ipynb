{
 "cells": [
  {
   "cell_type": "code",
   "execution_count": 16,
   "metadata": {},
   "outputs": [],
   "source": [
    "import random\n",
    "## Import tensorflow package for modeling\n",
    "import torch\n",
    "from torch.autograd import Variable\n",
    "import torch.optim as optim\n",
    "\n",
    "## Data processing\n",
    "import pandas as pd\n",
    "import numpy as np\n",
    "\n",
    "## Min-max normalization\n",
    "from sklearn.preprocessing import MinMaxScaler\n",
    "from sklearn.preprocessing import LabelEncoder\n",
    "\n",
    "## Plot the graph\n",
    "import matplotlib.pyplot as plt\n",
    "%matplotlib inline\n",
    "\n",
    "## Initializing module\n",
    "from sklearn.linear_model import LinearRegression\n",
    "np.set_printoptions(suppress=True)\n",
    "\n",
    "## Copy module\n",
    "import copy\n",
    "\n",
    "## Used to calculate the training time\n",
    "import time\n",
    "\n",
    "## Set the GUP environment\n",
    "import os\n",
    "import sys\n",
    "\n",
    "from matplotlib.ticker import MaxNLocator\n",
    "import matplotlib.ticker as ticker"
   ]
  },
  {
   "cell_type": "code",
   "execution_count": 17,
   "metadata": {},
   "outputs": [],
   "source": [
    "## Set up the display\n",
    "torch.set_printoptions(sci_mode=False)\n",
    "np.set_printoptions(suppress=True, threshold=np.inf)"
   ]
  },
  {
   "cell_type": "code",
   "execution_count": 18,
   "metadata": {},
   "outputs": [],
   "source": [
    "## Set seed for random function\n",
    "random.seed(168)"
   ]
  },
  {
   "cell_type": "markdown",
   "metadata": {},
   "source": [
    "# Data preparation"
   ]
  },
  {
   "cell_type": "code",
   "execution_count": 19,
   "metadata": {},
   "outputs": [],
   "source": [
    "## 讀入原始資料\n",
    "demand = pd.read_csv(\"demand.csv\")"
   ]
  },
  {
   "cell_type": "code",
   "execution_count": 20,
   "metadata": {},
   "outputs": [],
   "source": [
    "## 區分出 x 與 y 資料\n",
    "demand_x = demand.iloc[:,:-1]\n",
    "demand_y = pd.DataFrame(demand.iloc[:,-1])"
   ]
  },
  {
   "cell_type": "code",
   "execution_count": 21,
   "metadata": {},
   "outputs": [],
   "source": [
    "## 排除前 6 個月需求皆為 0 的資料\n",
    "demand_y = demand_y[~((demand_x[\"t-4\"]==0) & (demand_x[\"t-3\"]==0) & (demand_x[\"t-2\"]==0) & (demand_x[\"t-1\"]==0) & (demand_x[\"t\"]==0) & (demand_x[\"t+1\"]==0))]\n",
    "demand_x = demand_x[~((demand_x[\"t-4\"]==0) & (demand_x[\"t-3\"]==0) & (demand_x[\"t-2\"]==0) & (demand_x[\"t-1\"]==0) & (demand_x[\"t\"]==0) & (demand_x[\"t+1\"]==0))]\n",
    "\n",
    "## 重新排序\n",
    "demand_x.reset_index(drop=True, inplace=True)\n",
    "demand_y.reset_index(drop=True, inplace=True)"
   ]
  },
  {
   "cell_type": "code",
   "execution_count": 22,
   "metadata": {},
   "outputs": [],
   "source": [
    "##Add new column \"Number\" to demand_y\n",
    "demand_y.insert(0, \"Number\", demand_x[\"Number\"])"
   ]
  },
  {
   "cell_type": "code",
   "execution_count": 23,
   "metadata": {},
   "outputs": [
    {
     "data": {
      "text/plain": [
       "0       2013/5/1\n",
       "1       2013/6/1\n",
       "2       2013/7/1\n",
       "3       2013/8/1\n",
       "4       2013/9/1\n",
       "          ...   \n",
       "2409    2020/2/1\n",
       "2410    2020/3/1\n",
       "2411    2020/4/1\n",
       "2412    2020/5/1\n",
       "2413    2020/6/1\n",
       "Name: Month_date, Length: 2414, dtype: object"
      ]
     },
     "execution_count": 23,
     "metadata": {},
     "output_type": "execute_result"
    }
   ],
   "source": [
    "## Store the date data\n",
    "date = demand_x[\"Month_date\"]\n",
    "\n",
    "## Delete the date data from the demand_x \n",
    "demand_x.pop(\"Month_date\")"
   ]
  },
  {
   "cell_type": "code",
   "execution_count": 24,
   "metadata": {},
   "outputs": [],
   "source": [
    "## Set up the label encoder \n",
    "labelencoder = LabelEncoder()\n",
    "demand_x_encode = copy.deepcopy(demand_x)\n",
    "demand_y_encode = copy.deepcopy(demand_y)"
   ]
  },
  {
   "cell_type": "code",
   "execution_count": 25,
   "metadata": {},
   "outputs": [],
   "source": [
    "## Encode the material number\n",
    "demand_x_encode[\"Number\"]=labelencoder.fit_transform(demand_x_encode[\"Number\"])\n",
    "demand_y_encode[\"Number\"]=labelencoder.transform(demand_y_encode[\"Number\"])\n",
    "\n",
    "## 從 1 開始編碼\n",
    "demand_x_encode[\"Number\"] = demand_x_encode[\"Number\"]+1\n",
    "demand_y_encode[\"Number\"] = demand_y_encode[\"Number\"]+1"
   ]
  },
  {
   "cell_type": "code",
   "execution_count": 26,
   "metadata": {},
   "outputs": [
    {
     "name": "stdout",
     "output_type": "stream",
     "text": [
      "['CC1101040' 'CC1101050' 'CC110105002300' 'CC1101060' 'CC110106001800'\n",
      " 'CC110106004900' 'CC1101080' 'CC110108002300' 'CC110108002800'\n",
      " 'CC110108004300' 'CC110108004500' 'CC110108004700' 'CC1101100'\n",
      " 'CC1102035' 'CC1102070' 'CC1102080' 'CC110208001800' 'CC110208002500'\n",
      " 'CC110208003600' 'CC1102090' 'CC1102100' 'CC110210002800' 'CC1102120'\n",
      " 'CC1102150' 'CC1102160' 'CC1102200' 'CC1102300' 'CC1102400']\n"
     ]
    }
   ],
   "source": [
    "## Print out each meaning of code\n",
    "material_num = [i for i in range(len(demand_x_encode[\"Number\"].unique()))]\n",
    "print(labelencoder.inverse_transform(material_num))"
   ]
  },
  {
   "cell_type": "code",
   "execution_count": 49,
   "metadata": {},
   "outputs": [],
   "source": [
    "numbers = [number for number in demand_x_encode[\"Number\"].unique()]\n",
    "\n",
    "x_train, y_train, x_test, y_test = np.array([]), np.array([]), np.array([]), np.array([])\n",
    "data_content = pd.DataFrame(columns=[\"Number\", \"Train\", \"Test\"])\n",
    "\n",
    "for i in range(len(numbers)):\n",
    "\n",
    "    target_x = demand_x_encode[demand_x_encode[\"Number\"]== numbers[i]]\n",
    "    target_y = demand_y_encode[demand_y_encode[\"Number\"]== numbers[i]]\n",
    "\n",
    "    target_x.reset_index(inplace=True, drop=True)\n",
    "    target_y.reset_index(inplace=True, drop=True)\n",
    "\n",
    "    target_x_volume = np.array(target_x)\n",
    "    target_y_volume = np.array(target_y[\"t+2\"])\n",
    "    target_y = np.array(target_y)\n",
    "\n",
    "\n",
    "    ## Handling outlier\n",
    "    #選定幾倍 IQR 值以外去除\n",
    "    n=0\n",
    "\n",
    "    #IQR = Q3-Q1\n",
    "    IQR = np.percentile(target_y_volume,75) - np.percentile(target_y_volume,25)\n",
    "\n",
    "    #outlier = Q3 + n*IQR \n",
    "    upper = np.percentile(target_y_volume,75)+n*IQR\n",
    "    lower = np.percentile(target_y_volume,25)-n*IQR\n",
    "\n",
    "    ## 方法一： outlier 直接排除\n",
    "\n",
    "\n",
    "    #outlier = Q3 + n*IQR \n",
    "    target_x_volume = target_x_volume[np.where(target_y_volume <= upper)[0]]\n",
    "    target_y = target_y[np.where(target_y_volume <= upper)[0]]\n",
    "    target_y_volume = target_y_volume[target_y_volume <= upper]\n",
    "\n",
    "    #outlier = Q1 - n*IQR \n",
    "    target_x_volume = target_x_volume[np.where(target_y_volume >= lower)[0]]\n",
    "    target_y = target_y[np.where(target_y_volume >= lower)[0]]\n",
    "    target_y_volume = target_y_volume[target_y_volume >= lower]\n",
    "\n",
    "    record = pd.DataFrame({\n",
    "\n",
    "        \"Number\" : [labelencoder.inverse_transform([numbers[i]-1])[0]],\n",
    "        \"Train\" : [int(target_x_volume.shape[0]*0.8)],\n",
    "        \"Test\" : [target_x_volume.shape[0] - int(target_x_volume.shape[0]*0.8)]\n",
    "    })\n",
    "        \n",
    "    data_content = data_content.append(record)\n",
    "\n",
    "    ## 方法二： outlier 取代成上、下限值\n",
    "#     target_y_volume[np.where(target_y_volume > upper)] = upper\n",
    "#     target_y_volume[np.where(target_y_volume < lower)] = lower\n",
    "\n",
    "\n",
    "    x_train = np.append(x_train, target_x_volume[:int(target_x_volume.shape[0]*0.8)])\n",
    "    y_train = np.append(y_train, target_y[:int(target_x_volume.shape[0]*0.8)])\n",
    "\n",
    "    x_test = np.append(x_test, target_x_volume[int(target_x_volume.shape[0]*0.8):])\n",
    "    y_test = np.append(y_test, target_y[int(target_x_volume.shape[0]*0.8):])\n",
    "\n",
    "    \n",
    "    # 印結果\n",
    "#         number_text = labelencoder.inverse_transform([numbers[i]-1])[0]\n",
    "#         axes[i//2][i%2].set_title(\"Material number: %s\" %(number_text))\n",
    "#         axes[i//2][i%2].plot(target_y_volume)\n",
    "#         axes[i//2][i%2].axhline(y=IQR, color=\"red\")\n",
    "#         axes[i//2][i%2].axhline(y=upper, color=\"orange\")\n",
    "#         axes[i//2][i%2].axhline(y=lower, color=\"orange\")\n",
    "\n",
    "x_train = x_train.reshape(-1, demand_x_encode.shape[1])\n",
    "x_test = x_test.reshape(-1, demand_x_encode.shape[1])"
   ]
  },
  {
   "cell_type": "code",
   "execution_count": 51,
   "metadata": {},
   "outputs": [],
   "source": [
    "data_content.to_csv(\"Data_description.csv\", index=False)"
   ]
  }
 ],
 "metadata": {
  "kernelspec": {
   "display_name": "Python 3",
   "language": "python",
   "name": "python3"
  },
  "language_info": {
   "codemirror_mode": {
    "name": "ipython",
    "version": 3
   },
   "file_extension": ".py",
   "mimetype": "text/x-python",
   "name": "python",
   "nbconvert_exporter": "python",
   "pygments_lexer": "ipython3",
   "version": "3.6.9"
  }
 },
 "nbformat": 4,
 "nbformat_minor": 4
}
