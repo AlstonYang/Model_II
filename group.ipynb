{
 "cells": [
  {
   "cell_type": "code",
   "execution_count": 21,
   "metadata": {},
   "outputs": [],
   "source": [
    "import numpy as np\n",
    "import pandas as pd\n",
    "import os"
   ]
  },
  {
   "cell_type": "markdown",
   "metadata": {},
   "source": [
    "### 切換路徑"
   ]
  },
  {
   "cell_type": "code",
   "execution_count": 22,
   "metadata": {},
   "outputs": [
    {
     "data": {
      "text/plain": [
       "'/home/Oring-AI/Model_II'"
      ]
     },
     "execution_count": 22,
     "metadata": {},
     "output_type": "execute_result"
    }
   ],
   "source": [
    "os.getcwd()"
   ]
  },
  {
   "cell_type": "code",
   "execution_count": 23,
   "metadata": {},
   "outputs": [
    {
     "data": {
      "text/plain": [
       "'/home/Oring-AI/Model_II'"
      ]
     },
     "execution_count": 23,
     "metadata": {},
     "output_type": "execute_result"
    }
   ],
   "source": [
    "os.chdir(\"/home/Oring-AI/Model_II\")\n",
    "os.getcwd()"
   ]
  },
  {
   "cell_type": "code",
   "execution_count": 24,
   "metadata": {},
   "outputs": [],
   "source": [
    "### 讀取資料 - dimension stone & sheet size\n",
    "detail = pd.read_csv(\"Demand.csv\")"
   ]
  },
  {
   "cell_type": "markdown",
   "metadata": {},
   "source": [
    "### Dimension_stone"
   ]
  },
  {
   "cell_type": "code",
   "execution_count": null,
   "metadata": {},
   "outputs": [],
   "source": [
    "import re\n",
    "pattern=r'0{5}$'\n",
    "dimension_stone = detail[~detail[\"Number\"].str.contains(pattern)]\n",
    "dimension_stone.reset_index(drop=True, inplace=True)"
   ]
  },
  {
   "cell_type": "code",
   "execution_count": null,
   "metadata": {},
   "outputs": [],
   "source": [
    "dimension_stone.groupby(\"Number\").size().sort_values(ascending = False).to_csv(\"material_by_number_daily.csv\")"
   ]
  },
  {
   "cell_type": "code",
   "execution_count": null,
   "metadata": {},
   "outputs": [],
   "source": [
    "material_by_number = dimension_stone.groupby(\"Number\").size().sort_values(ascending = False).to_frame(name=\"Count\")\n",
    "material_by_number.reset_index(inplace=True)"
   ]
  },
  {
   "cell_type": "markdown",
   "metadata": {},
   "source": [
    "### Transform the data to weekly data"
   ]
  },
  {
   "cell_type": "code",
   "execution_count": null,
   "metadata": {},
   "outputs": [],
   "source": [
    "import datetime\n",
    " \n",
    "def dateRange(beginDate, endDate):\n",
    "    dates = []\n",
    "    date = beginDate\n",
    "    \n",
    "    while date <= endDate:\n",
    "        dates.append(date)\n",
    "        date = date + datetime.timedelta(1)\n",
    "    \n",
    "    return dates"
   ]
  },
  {
   "cell_type": "code",
   "execution_count": null,
   "metadata": {},
   "outputs": [],
   "source": [
    "start = datetime.datetime.strptime('2013/05/01', \"%Y/%m/%d\")\n",
    "end = datetime.datetime.strptime('2020/04/30', \"%Y/%m/%d\")\n",
    "\n",
    "dates = dateRange(start, end)\n",
    "dates_data = pd.DataFrame(dates, columns=[\"Date\"])"
   ]
  },
  {
   "cell_type": "code",
   "execution_count": null,
   "metadata": {},
   "outputs": [],
   "source": [
    "dimension_stone[\"Date\"] = pd.to_datetime(dimension_stone['Date'], format='%Y/%m/%d')"
   ]
  },
  {
   "cell_type": "code",
   "execution_count": null,
   "metadata": {},
   "outputs": [],
   "source": [
    "Numbers = dimension_stone[\"Number\"].unique()"
   ]
  },
  {
   "cell_type": "code",
   "execution_count": null,
   "metadata": {},
   "outputs": [],
   "source": [
    "def dataToWeek(data, step= 7):\n",
    "    \n",
    "    weekly_df = pd.DataFrame()\n",
    "    \n",
    "    weekly_df = weekly_df.append([np.round(np.mean(data.iloc[i:i+step]),2) for i in range(0, len(data), step)])\n",
    "\n",
    "    return weekly_df"
   ]
  },
  {
   "cell_type": "markdown",
   "metadata": {},
   "source": [
    "### Transform daily data to weekly data"
   ]
  },
  {
   "cell_type": "code",
   "execution_count": null,
   "metadata": {},
   "outputs": [],
   "source": [
    "material_weekly = pd.DataFrame(columns=[\"Number\", \"Count\"])\n",
    "\n",
    "for Number in Numbers:\n",
    "    material = dimension_stone[dimension_stone[\"Number\"]==Number]\n",
    "\n",
    "    data = pd.merge(dates_data, material, how='left', on='Date')\n",
    "    data = data[\"Amount\"]\n",
    "    weekly_data = dataToWeek(data, step= 7)\n",
    "    \n",
    "    new = {\n",
    "        \"Number\" : material[\"Number\"].values[0],\n",
    "        \"Count\" : int(weekly_data.count())\n",
    "    }\n",
    "\n",
    "    material_weekly = material_weekly.append(new,ignore_index=True) \n",
    "        ##Way I\n",
    "#         print (sum(np.isnan(weekly_data)==False))\n",
    "\n",
    "        ##Way II\n",
    "#         amount = Data[\"Amount\"]\n",
    "#         print (len(amount[~np.isnan(amount)]))"
   ]
  },
  {
   "cell_type": "code",
   "execution_count": null,
   "metadata": {},
   "outputs": [],
   "source": [
    "material_weekly.sort_values(by = 'Count', ascending=False, ignore_index=True).to_csv(\"material_by_number_weekly.csv\", index=False)"
   ]
  },
  {
   "cell_type": "code",
   "execution_count": null,
   "metadata": {},
   "outputs": [],
   "source": []
  }
 ],
 "metadata": {
  "kernelspec": {
   "display_name": "Python 3",
   "language": "python",
   "name": "python3"
  },
  "language_info": {
   "codemirror_mode": {
    "name": "ipython",
    "version": 3
   },
   "file_extension": ".py",
   "mimetype": "text/x-python",
   "name": "python",
   "nbconvert_exporter": "python",
   "pygments_lexer": "ipython3",
   "version": "3.6.9"
  }
 },
 "nbformat": 4,
 "nbformat_minor": 4
}
