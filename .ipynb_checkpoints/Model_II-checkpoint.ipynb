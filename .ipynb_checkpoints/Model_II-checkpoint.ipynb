{
 "cells": [
  {
   "cell_type": "code",
   "execution_count": 177,
   "metadata": {},
   "outputs": [],
   "source": [
    "import pandas as pd\n",
    "import numpy as np\n",
    "from sklearn.preprocessing import LabelEncoder\n",
    "import copy\n",
    "import random\n",
    "np.set_printoptions(suppress=True, threshold=np.inf)"
   ]
  },
  {
   "cell_type": "code",
   "execution_count": 273,
   "metadata": {},
   "outputs": [],
   "source": [
    "## Import tensorflow package for modeling\n",
    "import torch\n",
    "from torch.autograd import Variable\n",
    "import torch.optim as optim\n",
    "\n",
    "## Data processing\n",
    "import pandas as pd\n",
    "import numpy as np\n",
    "\n",
    "## Min-max normalization\n",
    "from sklearn.preprocessing import MinMaxScaler\n",
    "\n",
    "## Plot the graph\n",
    "import matplotlib.pyplot as plt\n",
    "%matplotlib inline\n",
    "\n",
    "## Initializing module\n",
    "from sklearn.linear_model import LinearRegression\n",
    "np.set_printoptions(suppress=True)\n",
    "\n",
    "## Copy module\n",
    "import copy\n",
    "\n",
    "## Used to calculate the training time\n",
    "import time\n",
    "\n",
    "## Set the GUP environment\n",
    "import os\n",
    "import sys\n",
    "\n",
    "from matplotlib.ticker import MaxNLocator\n",
    "import matplotlib.ticker as ticker"
   ]
  },
  {
   "cell_type": "code",
   "execution_count": 274,
   "metadata": {},
   "outputs": [],
   "source": [
    "## Set up the display\n",
    "torch.set_printoptions(sci_mode=False)"
   ]
  },
  {
   "cell_type": "markdown",
   "metadata": {},
   "source": [
    "## Data preparation"
   ]
  },
  {
   "cell_type": "markdown",
   "metadata": {},
   "source": [
    "### Label encoder"
   ]
  },
  {
   "cell_type": "code",
   "execution_count": 275,
   "metadata": {},
   "outputs": [],
   "source": [
    "demand_x = pd.read_csv(\"demand_x.csv\")\n",
    "demand_y = pd.read_csv(\"demand_y.csv\")"
   ]
  },
  {
   "cell_type": "code",
   "execution_count": 276,
   "metadata": {},
   "outputs": [],
   "source": [
    "demand_y.insert(0, \"Number\", demand_x[\"Number\"])"
   ]
  },
  {
   "cell_type": "code",
   "execution_count": 277,
   "metadata": {},
   "outputs": [],
   "source": [
    "date = demand_x.iloc[:,0]\n",
    "demand_x = demand_x.iloc[:,1:]"
   ]
  },
  {
   "cell_type": "code",
   "execution_count": 278,
   "metadata": {},
   "outputs": [],
   "source": [
    "labelencoder = LabelEncoder()\n",
    "demand_x_encode = copy.deepcopy(demand_x)\n",
    "demand_y_encode = copy.deepcopy(demand_y)"
   ]
  },
  {
   "cell_type": "code",
   "execution_count": 279,
   "metadata": {},
   "outputs": [],
   "source": [
    "demand_x_encode[\"Number\"]=labelencoder.fit_transform(demand_x_encode[\"Number\"])\n",
    "demand_y_encode[\"Number\"]=labelencoder.transform(demand_y_encode[\"Number\"])"
   ]
  },
  {
   "cell_type": "code",
   "execution_count": 280,
   "metadata": {},
   "outputs": [
    {
     "name": "stdout",
     "output_type": "stream",
     "text": [
      "['CC110105002300' 'CC110106001800' 'CC110106004900' 'CC110108002300'\n",
      " 'CC110108002800' 'CC110108002850' 'CC110108003400' 'CC110108004000'\n",
      " 'CC110108004300' 'CC110108004500' 'CC110108004700' 'CC110203504500'\n",
      " 'CC110208001800' 'CC110208002500' 'CC110208003600' 'CC110210002800'\n",
      " 'CC110215002700' 'CC110215003050' 'CC110215004750' 'CC110220004600']\n"
     ]
    }
   ],
   "source": [
    "material_num = [i for i in range(20)]\n",
    "print(labelencoder.inverse_transform(material_num))"
   ]
  },
  {
   "cell_type": "markdown",
   "metadata": {},
   "source": [
    "### Data description"
   ]
  },
  {
   "cell_type": "code",
   "execution_count": 281,
   "metadata": {},
   "outputs": [],
   "source": [
    "data_des = pd.read_csv(\"data_des.csv\")"
   ]
  },
  {
   "cell_type": "code",
   "execution_count": 282,
   "metadata": {},
   "outputs": [],
   "source": [
    "set_length = 300\n",
    "data_des[\"num_data_in_set\"] = (round(data_des[\"ratio\"]*set_length,0)).apply(int)\n",
    "if (data_des[\"num_data_in_set\"].shape[0]!=300):\n",
    "    data_des.iloc[0,3] += (300-sum(data_des[\"num_data_in_set\"]))\n",
    "\n",
    "training_rate = 0.7\n",
    "testing_rate = 1-training_rate\n",
    "data_des[\"num_data_in_train\"] = (round(data_des[\"num_data_in_set\"]*training_rate,0)).apply(int)\n",
    "# data_des[\"num_data_in_test\"] = (round(data_des[\"num_data_in_set\"]*testing_rate,0)).apply(int)\n",
    "\n",
    "if (data_des[\"num_data_in_train\"].shape[0] != 210):\n",
    "    data_des.iloc[0,4] += (210-sum(data_des[\"num_data_in_train\"]))"
   ]
  },
  {
   "cell_type": "markdown",
   "metadata": {},
   "source": [
    "### Split the data into the training and testing"
   ]
  },
  {
   "cell_type": "code",
   "execution_count": 283,
   "metadata": {},
   "outputs": [],
   "source": [
    "def get_data(demand_x_encode, demand_y_encode, data_des,number_encode):\n",
    " \n",
    "    block_x_train, block_y_train, block_x_test, block_y_test = np.array([]), np.array([]), np.array([]), np.array([])\n",
    "\n",
    "    for i in range(data_des.shape[0]):\n",
    "    # for i in range(1):\n",
    "        selected_material_x = demand_x_encode[demand_x_encode[\"Number\"]==number_encode[i]]\n",
    "        selected_material_y = demand_y_encode[demand_y_encode[\"Number\"]==number_encode[i]]\n",
    "        selected_material_x.reset_index(drop=True, inplace=True)\n",
    "        selected_material_y.reset_index(drop=True, inplace=True)\n",
    "\n",
    "        selected_index = np.random.randint(selected_material_x.shape[0], size=data_des.iloc[i,3])\n",
    "\n",
    "        block_x_train = np.append(block_x_train, selected_material_x.iloc[selected_index,:][:data_des.iloc[i,4]]).reshape([-1,selected_material_x.shape[1]])\n",
    "        block_y_train = np.append(block_y_train, selected_material_y.iloc[selected_index,:][:data_des.iloc[i,4]]).reshape([-1,selected_material_y.shape[1]])\n",
    "\n",
    "        block_x_test = np.append(block_x_test, selected_material_x.iloc[selected_index,:][data_des.iloc[i,4]:]).reshape([-1,selected_material_x.shape[1]])\n",
    "        block_y_test = np.append(block_y_test, selected_material_y.iloc[selected_index,:][data_des.iloc[i,4]:]).reshape([-1,selected_material_y.shape[1]])\n",
    "        \n",
    "    return (block_x_train, block_y_train, block_x_test, block_y_test)"
   ]
  },
  {
   "cell_type": "code",
   "execution_count": 284,
   "metadata": {},
   "outputs": [],
   "source": [
    "# number_encode = labelencoder.transform(data_des[\"Number\"])\n",
    "block_x_train, block_y_train, block_x_test, block_y_test = get_data(demand_x_encode, demand_y_encode, data_des,number_encode)"
   ]
  },
  {
   "cell_type": "code",
   "execution_count": 285,
   "metadata": {},
   "outputs": [],
   "source": [
    "block_y_train = block_y_train[:,1:]\n",
    "block_y_test = block_y_test[:,1:]"
   ]
  },
  {
   "cell_type": "markdown",
   "metadata": {},
   "source": [
    "### Data shuffle"
   ]
  },
  {
   "cell_type": "code",
   "execution_count": 286,
   "metadata": {},
   "outputs": [],
   "source": [
    "zip_list = list(zip(block_x_train.tolist(), block_y_train.tolist()))\n",
    "random.shuffle(zip_list)\n",
    "demand_x_shuffle, demand_y_shuffle = zip(*zip_list)\n",
    "demand_x_shuffle, demand_y_shuffle = np.array(demand_x_shuffle), np.array(demand_y_shuffle)"
   ]
  },
  {
   "cell_type": "code",
   "execution_count": 306,
   "metadata": {},
   "outputs": [],
   "source": [
    "x_sets_train, y_sets_train, x_sets_test, y_sets_test = [],[],[],[]\n",
    "\n",
    "for _ in range(15):\n",
    "    block_x_train, block_y_train, block_x_test, block_y_test = get_data(demand_x_encode, demand_y_encode, data_des,number_encode)\n",
    "\n",
    "    zip_list = list(zip(block_x_train.tolist(), block_y_train.tolist()))\n",
    "    random.shuffle(zip_list)\n",
    "    demand_x_shuffle, demand_y_shuffle = zip(*zip_list)\n",
    "    demand_x_shuffle, demand_y_shuffle = np.array(demand_x_shuffle), np.array(demand_y_shuffle)\n",
    "    \n",
    "    x_sets_train.append(demand_x_shuffle)\n",
    "    y_sets_train.append(demand_y_shuffle)\n",
    "    x_sets_test.append(block_x_test)\n",
    "    y_sets_test.append(block_y_test)"
   ]
  },
  {
   "cell_type": "code",
   "execution_count": 308,
   "metadata": {},
   "outputs": [
    {
     "data": {
      "text/plain": [
       "array([[  3.  ,  11.  ,   0.  ,   0.  ,   0.  ,   0.  ,   0.  ,   0.  ,\n",
       "          0.  ,   0.  ],\n",
       "       [  3.  ,   4.  ,  22.84,   0.  ,   0.  ,   0.  ,   0.  ,   0.  ,\n",
       "         91.  ,  91.  ],\n",
       "       [  0.  ,  11.  ,   0.1 ,   0.  ,   0.  ,   0.  ,  39.5 , 356.4 ,\n",
       "        376.1 ,   0.  ],\n",
       "       [ 13.  ,   7.  ,  14.5 ,  57.  ,   0.  , 146.  ,  15.  ,  11.5 ,\n",
       "          7.  ,   0.  ],\n",
       "       [ 10.  ,  11.  ,   0.  ,   0.  , 313.5 ,   0.  ,   0.  , 164.  ,\n",
       "          0.  ,  20.  ],\n",
       "       [  3.  ,   7.  ,  43.  ,  15.5 ,   0.  ,  46.  ,   0.  ,  21.5 ,\n",
       "          0.  ,   0.  ],\n",
       "       [  4.  ,   4.  ,  73.  ,   0.  ,   0.  ,   0.  , 360.  ,   0.  ,\n",
       "          0.  ,   0.  ],\n",
       "       [  1.  ,  12.  ,   0.  ,   1.5 ,   0.  ,   0.  ,   1.  ,   0.  ,\n",
       "          0.  , 635.38],\n",
       "       [  3.  ,   6.  ,   0.  ,   0.  ,   0.  ,   0.  ,  43.  ,  15.5 ,\n",
       "          0.  ,  46.  ],\n",
       "       [ 11.  ,   3.  , 363.2 ,   0.  ,   0.  ,   0.  ,   0.  , 981.1 ,\n",
       "          0.  ,   0.  ]])"
      ]
     },
     "execution_count": 308,
     "metadata": {},
     "output_type": "execute_result"
    }
   ],
   "source": [
    "x_sets_train[][:10]"
   ]
  },
  {
   "cell_type": "code",
   "execution_count": null,
   "metadata": {},
   "outputs": [],
   "source": []
  }
 ],
 "metadata": {
  "kernelspec": {
   "display_name": "Python 3",
   "language": "python",
   "name": "python3"
  },
  "language_info": {
   "codemirror_mode": {
    "name": "ipython",
    "version": 3
   },
   "file_extension": ".py",
   "mimetype": "text/x-python",
   "name": "python",
   "nbconvert_exporter": "python",
   "pygments_lexer": "ipython3",
   "version": "3.6.9"
  }
 },
 "nbformat": 4,
 "nbformat_minor": 4
}
