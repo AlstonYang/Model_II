{
 "cells": [
  {
   "cell_type": "code",
   "execution_count": 1,
   "metadata": {},
   "outputs": [],
   "source": [
    "import numpy as np\n",
    "import pandas as pd"
   ]
  },
  {
   "cell_type": "code",
   "execution_count": 2,
   "metadata": {},
   "outputs": [
    {
     "data": {
      "text/html": [
       "<div>\n",
       "<style scoped>\n",
       "    .dataframe tbody tr th:only-of-type {\n",
       "        vertical-align: middle;\n",
       "    }\n",
       "\n",
       "    .dataframe tbody tr th {\n",
       "        vertical-align: top;\n",
       "    }\n",
       "\n",
       "    .dataframe thead th {\n",
       "        text-align: right;\n",
       "    }\n",
       "</style>\n",
       "<table border=\"1\" class=\"dataframe\">\n",
       "  <thead>\n",
       "    <tr style=\"text-align: right;\">\n",
       "      <th></th>\n",
       "      <th>Number</th>\n",
       "      <th>Type</th>\n",
       "      <th>Date</th>\n",
       "      <th>Amount</th>\n",
       "    </tr>\n",
       "  </thead>\n",
       "  <tbody>\n",
       "    <tr>\n",
       "      <th>0</th>\n",
       "      <td>CC110016000000</td>\n",
       "      <td>261</td>\n",
       "      <td>2015/8/27</td>\n",
       "      <td>-116.000</td>\n",
       "    </tr>\n",
       "    <tr>\n",
       "      <th>1</th>\n",
       "      <td>CC110016000000</td>\n",
       "      <td>261</td>\n",
       "      <td>2015/9/28</td>\n",
       "      <td>-116.000</td>\n",
       "    </tr>\n",
       "    <tr>\n",
       "      <th>2</th>\n",
       "      <td>CC110016000000</td>\n",
       "      <td>261</td>\n",
       "      <td>2015/9/28</td>\n",
       "      <td>-70.000</td>\n",
       "    </tr>\n",
       "    <tr>\n",
       "      <th>3</th>\n",
       "      <td>CC110016000000</td>\n",
       "      <td>261</td>\n",
       "      <td>2015/11/2</td>\n",
       "      <td>-115.000</td>\n",
       "    </tr>\n",
       "    <tr>\n",
       "      <th>4</th>\n",
       "      <td>CC110016000000</td>\n",
       "      <td>261</td>\n",
       "      <td>2016/5/4</td>\n",
       "      <td>-105.800</td>\n",
       "    </tr>\n",
       "    <tr>\n",
       "      <th>...</th>\n",
       "      <td>...</td>\n",
       "      <td>...</td>\n",
       "      <td>...</td>\n",
       "      <td>...</td>\n",
       "    </tr>\n",
       "    <tr>\n",
       "      <th>34149</th>\n",
       "      <td>CC110250010300</td>\n",
       "      <td>201</td>\n",
       "      <td>2019/1/16</td>\n",
       "      <td>-10.000</td>\n",
       "    </tr>\n",
       "    <tr>\n",
       "      <th>34150</th>\n",
       "      <td>CC110250010300</td>\n",
       "      <td>201</td>\n",
       "      <td>2019/1/28</td>\n",
       "      <td>-10.000</td>\n",
       "    </tr>\n",
       "    <tr>\n",
       "      <th>34151</th>\n",
       "      <td>CC110250010300</td>\n",
       "      <td>201</td>\n",
       "      <td>2019/2/21</td>\n",
       "      <td>-10.000</td>\n",
       "    </tr>\n",
       "    <tr>\n",
       "      <th>34152</th>\n",
       "      <td>CC110250010300</td>\n",
       "      <td>201</td>\n",
       "      <td>2019/3/27</td>\n",
       "      <td>-29.416</td>\n",
       "    </tr>\n",
       "    <tr>\n",
       "      <th>34153</th>\n",
       "      <td>CC110250010300</td>\n",
       "      <td>201</td>\n",
       "      <td>2020/4/28</td>\n",
       "      <td>-2.000</td>\n",
       "    </tr>\n",
       "  </tbody>\n",
       "</table>\n",
       "<p>34154 rows × 4 columns</p>\n",
       "</div>"
      ],
      "text/plain": [
       "               Number  Type       Date   Amount\n",
       "0      CC110016000000   261  2015/8/27 -116.000\n",
       "1      CC110016000000   261  2015/9/28 -116.000\n",
       "2      CC110016000000   261  2015/9/28  -70.000\n",
       "3      CC110016000000   261  2015/11/2 -115.000\n",
       "4      CC110016000000   261   2016/5/4 -105.800\n",
       "...               ...   ...        ...      ...\n",
       "34149  CC110250010300   201  2019/1/16  -10.000\n",
       "34150  CC110250010300   201  2019/1/28  -10.000\n",
       "34151  CC110250010300   201  2019/2/21  -10.000\n",
       "34152  CC110250010300   201  2019/3/27  -29.416\n",
       "34153  CC110250010300   201  2020/4/28   -2.000\n",
       "\n",
       "[34154 rows x 4 columns]"
      ]
     },
     "execution_count": 2,
     "metadata": {},
     "output_type": "execute_result"
    }
   ],
   "source": [
    "### 讀取資料 - dimension stone & sheet size\n",
    "detail = pd.read_csv(\"Demand.csv\")\n",
    "detail"
   ]
  },
  {
   "cell_type": "code",
   "execution_count": 3,
   "metadata": {},
   "outputs": [],
   "source": [
    "### 將number欄位指派給number變數，並以此為根據加入number_type欄位\n",
    "number = detail[\"Number\"]\n",
    "detail[\"number_type\"] = [i[:9] for i in number]"
   ]
  },
  {
   "cell_type": "code",
   "execution_count": 4,
   "metadata": {},
   "outputs": [],
   "source": [
    "### 以Number_type分類\n",
    "Number_type = detail.groupby(\"number_type\")"
   ]
  },
  {
   "cell_type": "code",
   "execution_count": 5,
   "metadata": {},
   "outputs": [
    {
     "name": "stdout",
     "output_type": "stream",
     "text": [
      "The number of material:  34\n"
     ]
    }
   ],
   "source": [
    "### 以Number_type分類後，共有幾類\n",
    "print(\"The number of material: \",len(Number_type.size()))"
   ]
  },
  {
   "cell_type": "code",
   "execution_count": 6,
   "metadata": {},
   "outputs": [
    {
     "data": {
      "text/plain": [
       "number_type\n",
       "CC1101080    7399\n",
       "CC1102080    5685\n",
       "CC1102100    3082\n",
       "CC1102150    2880\n",
       "CC1101050    2578\n",
       "CC1101060    2472\n",
       "CC1102090    1284\n",
       "CC1102120    1242\n",
       "CC1102200    1208\n",
       "CC1101040    1144\n",
       "dtype: int64"
      ]
     },
     "execution_count": 6,
     "metadata": {},
     "output_type": "execute_result"
    }
   ],
   "source": [
    "Number_type.size().sort_values(ascending = False).head(10)"
   ]
  },
  {
   "cell_type": "markdown",
   "metadata": {},
   "source": [
    "### Group the data by number"
   ]
  },
  {
   "cell_type": "code",
   "execution_count": 7,
   "metadata": {},
   "outputs": [],
   "source": [
    "number = detail.groupby(\"Number\")"
   ]
  },
  {
   "cell_type": "code",
   "execution_count": 8,
   "metadata": {},
   "outputs": [],
   "source": [
    "info = number.size()"
   ]
  },
  {
   "cell_type": "code",
   "execution_count": 9,
   "metadata": {},
   "outputs": [],
   "source": [
    "info.sort_values(ascending = False).to_csv(\"material.csv\")"
   ]
  },
  {
   "cell_type": "code",
   "execution_count": 10,
   "metadata": {},
   "outputs": [],
   "source": [
    "demand_by_number = info.sort_values(ascending = False).to_frame(name='Count')\n",
    "demand_by_number.reset_index(inplace=True)"
   ]
  },
  {
   "cell_type": "markdown",
   "metadata": {},
   "source": [
    "### Dimension_stone"
   ]
  },
  {
   "cell_type": "code",
   "execution_count": 11,
   "metadata": {},
   "outputs": [],
   "source": [
    "import re\n",
    "pattern=r'0{5}$'\n",
    "dimension_stone = detail[~detail[\"Number\"].str.contains(pattern)]\n",
    "dimension_stone.reset_index(drop=True, inplace=True)"
   ]
  },
  {
   "cell_type": "code",
   "execution_count": 12,
   "metadata": {},
   "outputs": [],
   "source": [
    "dimension_stone.insert(0, \"Number_type\", [i[:9] for i in dimension_stone[\"Number\"]])"
   ]
  },
  {
   "cell_type": "code",
   "execution_count": 13,
   "metadata": {},
   "outputs": [
    {
     "data": {
      "text/html": [
       "<div>\n",
       "<style scoped>\n",
       "    .dataframe tbody tr th:only-of-type {\n",
       "        vertical-align: middle;\n",
       "    }\n",
       "\n",
       "    .dataframe tbody tr th {\n",
       "        vertical-align: top;\n",
       "    }\n",
       "\n",
       "    .dataframe thead th {\n",
       "        text-align: right;\n",
       "    }\n",
       "</style>\n",
       "<table border=\"1\" class=\"dataframe\">\n",
       "  <thead>\n",
       "    <tr style=\"text-align: right;\">\n",
       "      <th></th>\n",
       "      <th>Number_type</th>\n",
       "      <th>Number</th>\n",
       "      <th>Type</th>\n",
       "      <th>Date</th>\n",
       "      <th>Amount</th>\n",
       "      <th>number_type</th>\n",
       "    </tr>\n",
       "  </thead>\n",
       "  <tbody>\n",
       "    <tr>\n",
       "      <th>0</th>\n",
       "      <td>CC1100160</td>\n",
       "      <td>CC110016004950</td>\n",
       "      <td>261</td>\n",
       "      <td>2013/5/11</td>\n",
       "      <td>-169.000</td>\n",
       "      <td>CC1100160</td>\n",
       "    </tr>\n",
       "    <tr>\n",
       "      <th>1</th>\n",
       "      <td>CC1100160</td>\n",
       "      <td>CC110016004950</td>\n",
       "      <td>262</td>\n",
       "      <td>2013/5/11</td>\n",
       "      <td>57.000</td>\n",
       "      <td>CC1100160</td>\n",
       "    </tr>\n",
       "    <tr>\n",
       "      <th>2</th>\n",
       "      <td>CC1100160</td>\n",
       "      <td>CC110016004950</td>\n",
       "      <td>261</td>\n",
       "      <td>2013/6/4</td>\n",
       "      <td>-57.000</td>\n",
       "      <td>CC1100160</td>\n",
       "    </tr>\n",
       "    <tr>\n",
       "      <th>3</th>\n",
       "      <td>CC1100160</td>\n",
       "      <td>CC110016004950</td>\n",
       "      <td>261</td>\n",
       "      <td>2013/6/18</td>\n",
       "      <td>-170.000</td>\n",
       "      <td>CC1100160</td>\n",
       "    </tr>\n",
       "    <tr>\n",
       "      <th>4</th>\n",
       "      <td>CC1100160</td>\n",
       "      <td>CC110016004950</td>\n",
       "      <td>201</td>\n",
       "      <td>2014/9/5</td>\n",
       "      <td>-326.200</td>\n",
       "      <td>CC1100160</td>\n",
       "    </tr>\n",
       "    <tr>\n",
       "      <th>...</th>\n",
       "      <td>...</td>\n",
       "      <td>...</td>\n",
       "      <td>...</td>\n",
       "      <td>...</td>\n",
       "      <td>...</td>\n",
       "      <td>...</td>\n",
       "    </tr>\n",
       "    <tr>\n",
       "      <th>32018</th>\n",
       "      <td>CC1102500</td>\n",
       "      <td>CC110250010300</td>\n",
       "      <td>201</td>\n",
       "      <td>2019/1/16</td>\n",
       "      <td>-10.000</td>\n",
       "      <td>CC1102500</td>\n",
       "    </tr>\n",
       "    <tr>\n",
       "      <th>32019</th>\n",
       "      <td>CC1102500</td>\n",
       "      <td>CC110250010300</td>\n",
       "      <td>201</td>\n",
       "      <td>2019/1/28</td>\n",
       "      <td>-10.000</td>\n",
       "      <td>CC1102500</td>\n",
       "    </tr>\n",
       "    <tr>\n",
       "      <th>32020</th>\n",
       "      <td>CC1102500</td>\n",
       "      <td>CC110250010300</td>\n",
       "      <td>201</td>\n",
       "      <td>2019/2/21</td>\n",
       "      <td>-10.000</td>\n",
       "      <td>CC1102500</td>\n",
       "    </tr>\n",
       "    <tr>\n",
       "      <th>32021</th>\n",
       "      <td>CC1102500</td>\n",
       "      <td>CC110250010300</td>\n",
       "      <td>201</td>\n",
       "      <td>2019/3/27</td>\n",
       "      <td>-29.416</td>\n",
       "      <td>CC1102500</td>\n",
       "    </tr>\n",
       "    <tr>\n",
       "      <th>32022</th>\n",
       "      <td>CC1102500</td>\n",
       "      <td>CC110250010300</td>\n",
       "      <td>201</td>\n",
       "      <td>2020/4/28</td>\n",
       "      <td>-2.000</td>\n",
       "      <td>CC1102500</td>\n",
       "    </tr>\n",
       "  </tbody>\n",
       "</table>\n",
       "<p>32023 rows × 6 columns</p>\n",
       "</div>"
      ],
      "text/plain": [
       "      Number_type          Number  Type       Date   Amount number_type\n",
       "0       CC1100160  CC110016004950   261  2013/5/11 -169.000   CC1100160\n",
       "1       CC1100160  CC110016004950   262  2013/5/11   57.000   CC1100160\n",
       "2       CC1100160  CC110016004950   261   2013/6/4  -57.000   CC1100160\n",
       "3       CC1100160  CC110016004950   261  2013/6/18 -170.000   CC1100160\n",
       "4       CC1100160  CC110016004950   201   2014/9/5 -326.200   CC1100160\n",
       "...           ...             ...   ...        ...      ...         ...\n",
       "32018   CC1102500  CC110250010300   201  2019/1/16  -10.000   CC1102500\n",
       "32019   CC1102500  CC110250010300   201  2019/1/28  -10.000   CC1102500\n",
       "32020   CC1102500  CC110250010300   201  2019/2/21  -10.000   CC1102500\n",
       "32021   CC1102500  CC110250010300   201  2019/3/27  -29.416   CC1102500\n",
       "32022   CC1102500  CC110250010300   201  2020/4/28   -2.000   CC1102500\n",
       "\n",
       "[32023 rows x 6 columns]"
      ]
     },
     "execution_count": 13,
     "metadata": {},
     "output_type": "execute_result"
    }
   ],
   "source": [
    "dimension_stone"
   ]
  },
  {
   "cell_type": "code",
   "execution_count": 14,
   "metadata": {},
   "outputs": [],
   "source": [
    "dimension_stone.groupby(\"Number_type\").size().sort_values(ascending = False).to_csv(\"material_group.csv\")"
   ]
  },
  {
   "cell_type": "markdown",
   "metadata": {},
   "source": [
    "### Transform the data to weekly data"
   ]
  },
  {
   "cell_type": "code",
   "execution_count": 15,
   "metadata": {},
   "outputs": [],
   "source": [
    "import datetime\n",
    " \n",
    "def dateRange(beginDate, endDate):\n",
    "    dates = []\n",
    "    date = beginDate\n",
    "    \n",
    "    while date <= endDate:\n",
    "        dates.append(date)\n",
    "        date = date + datetime.timedelta(1)\n",
    "    \n",
    "    return dates"
   ]
  },
  {
   "cell_type": "code",
   "execution_count": 16,
   "metadata": {},
   "outputs": [],
   "source": [
    "start = datetime.datetime.strptime('2013/05/01', \"%Y/%m/%d\")\n",
    "end = datetime.datetime.strptime('2020/04/30', \"%Y/%m/%d\")\n",
    "\n",
    "dates = dateRange(start, end)\n",
    "dates_data = pd.DataFrame(dates, columns=[\"Date\"])"
   ]
  },
  {
   "cell_type": "code",
   "execution_count": 17,
   "metadata": {},
   "outputs": [
    {
     "name": "stderr",
     "output_type": "stream",
     "text": [
      "/usr/local/lib/python3.6/dist-packages/ipykernel_launcher.py:1: SettingWithCopyWarning: \n",
      "A value is trying to be set on a copy of a slice from a DataFrame.\n",
      "Try using .loc[row_indexer,col_indexer] = value instead\n",
      "\n",
      "See the caveats in the documentation: https://pandas.pydata.org/pandas-docs/stable/user_guide/indexing.html#returning-a-view-versus-a-copy\n",
      "  \"\"\"Entry point for launching an IPython kernel.\n"
     ]
    }
   ],
   "source": [
    "dimension_stone[\"Date\"] = pd.to_datetime(dimension_stone['Date'], format='%Y/%m/%d')"
   ]
  },
  {
   "cell_type": "code",
   "execution_count": 18,
   "metadata": {},
   "outputs": [
    {
     "data": {
      "text/html": [
       "<div>\n",
       "<style scoped>\n",
       "    .dataframe tbody tr th:only-of-type {\n",
       "        vertical-align: middle;\n",
       "    }\n",
       "\n",
       "    .dataframe tbody tr th {\n",
       "        vertical-align: top;\n",
       "    }\n",
       "\n",
       "    .dataframe thead th {\n",
       "        text-align: right;\n",
       "    }\n",
       "</style>\n",
       "<table border=\"1\" class=\"dataframe\">\n",
       "  <thead>\n",
       "    <tr style=\"text-align: right;\">\n",
       "      <th></th>\n",
       "      <th>Date</th>\n",
       "    </tr>\n",
       "  </thead>\n",
       "  <tbody>\n",
       "    <tr>\n",
       "      <th>0</th>\n",
       "      <td>2013-05-01</td>\n",
       "    </tr>\n",
       "    <tr>\n",
       "      <th>1</th>\n",
       "      <td>2013-05-02</td>\n",
       "    </tr>\n",
       "    <tr>\n",
       "      <th>2</th>\n",
       "      <td>2013-05-03</td>\n",
       "    </tr>\n",
       "    <tr>\n",
       "      <th>3</th>\n",
       "      <td>2013-05-04</td>\n",
       "    </tr>\n",
       "    <tr>\n",
       "      <th>4</th>\n",
       "      <td>2013-05-05</td>\n",
       "    </tr>\n",
       "    <tr>\n",
       "      <th>...</th>\n",
       "      <td>...</td>\n",
       "    </tr>\n",
       "    <tr>\n",
       "      <th>2552</th>\n",
       "      <td>2020-04-26</td>\n",
       "    </tr>\n",
       "    <tr>\n",
       "      <th>2553</th>\n",
       "      <td>2020-04-27</td>\n",
       "    </tr>\n",
       "    <tr>\n",
       "      <th>2554</th>\n",
       "      <td>2020-04-28</td>\n",
       "    </tr>\n",
       "    <tr>\n",
       "      <th>2555</th>\n",
       "      <td>2020-04-29</td>\n",
       "    </tr>\n",
       "    <tr>\n",
       "      <th>2556</th>\n",
       "      <td>2020-04-30</td>\n",
       "    </tr>\n",
       "  </tbody>\n",
       "</table>\n",
       "<p>2557 rows × 1 columns</p>\n",
       "</div>"
      ],
      "text/plain": [
       "           Date\n",
       "0    2013-05-01\n",
       "1    2013-05-02\n",
       "2    2013-05-03\n",
       "3    2013-05-04\n",
       "4    2013-05-05\n",
       "...         ...\n",
       "2552 2020-04-26\n",
       "2553 2020-04-27\n",
       "2554 2020-04-28\n",
       "2555 2020-04-29\n",
       "2556 2020-04-30\n",
       "\n",
       "[2557 rows x 1 columns]"
      ]
     },
     "execution_count": 18,
     "metadata": {},
     "output_type": "execute_result"
    }
   ],
   "source": [
    "dates_data"
   ]
  },
  {
   "cell_type": "code",
   "execution_count": 19,
   "metadata": {},
   "outputs": [
    {
     "data": {
      "text/plain": [
       "Number_type\n",
       "CC1101080    6990\n",
       "CC1102080    5364\n",
       "CC1102100    2838\n",
       "CC1102150    2773\n",
       "CC1101050    2414\n",
       "CC1101060    2260\n",
       "CC1102200    1208\n",
       "CC1102090    1169\n",
       "CC1102120    1127\n",
       "CC1101040    1037\n",
       "CC1102070     968\n",
       "CC1102035     679\n",
       "CC1102300     502\n",
       "CC1102400     377\n",
       "CC1102160     366\n",
       "CC1101090     342\n",
       "CC1101100     303\n",
       "CC1102500     286\n",
       "CC1102250     283\n",
       "CC1100160     153\n",
       "CC1101150     148\n",
       "CC1102350     113\n",
       "CC1100250      96\n",
       "CC1101200      64\n",
       "CC1102140      50\n",
       "CC1100200      39\n",
       "CC1100300      21\n",
       "CC1102030      19\n",
       "CC1102050      16\n",
       "CC1100400      10\n",
       "CC1101035       4\n",
       "CC1101070       2\n",
       "CC1102000       1\n",
       "CC1102060       1\n",
       "dtype: int64"
      ]
     },
     "execution_count": 19,
     "metadata": {},
     "output_type": "execute_result"
    }
   ],
   "source": [
    "dimension_stone.groupby(\"Number_type\").size().sort_values(ascending = False)"
   ]
  },
  {
   "cell_type": "code",
   "execution_count": 20,
   "metadata": {},
   "outputs": [],
   "source": [
    "Number_types = dimension_stone[\"Number_type\"].unique()"
   ]
  },
  {
   "cell_type": "code",
   "execution_count": 21,
   "metadata": {},
   "outputs": [],
   "source": [
    "def dataToWeek(data, step= 7):\n",
    "    \n",
    "    weekly_df = pd.DataFrame()\n",
    "    \n",
    "    weekly_df = weekly_df.append([np.round(np.mean(data.iloc[i:i+step]),2) for i in range(0, len(data), step)])\n",
    "\n",
    "    return weekly_df"
   ]
  },
  {
   "cell_type": "code",
   "execution_count": 22,
   "metadata": {},
   "outputs": [],
   "source": [
    "top_ten_consumption = pd.DataFrame(columns=[\"ID\", \"Amount\"])\n",
    "\n",
    "for Number_type in Number_types:\n",
    "    material = dimension_stone[dimension_stone[\"Number_type\"]==Number_type]\n",
    "\n",
    "    if material.shape[0] >1000:\n",
    "#         print(\"The material ID: %s\"%material[\"Number_type\"].values[1])\n",
    "        data = pd.merge(dates_data, material, how='left', on='Date')\n",
    "        data = data[\"Amount\"]\n",
    "        weekly_data = dataToWeek(data, step= 7)\n",
    "\n",
    "#         print(len(weekly_data[~np.isnan(weekly_data)]))\n",
    "\n",
    "        new = {\n",
    "            \"ID\" : material[\"Number_type\"].values[1],\n",
    "            \"Amount\" : len(weekly_data[~np.isnan(weekly_data)])\n",
    "        }\n",
    "\n",
    "        top_ten_consumption = top_ten_consumption.append(new,ignore_index=True) \n",
    "\n",
    "        ##Way I\n",
    "#         print (sum(np.isnan(weekly_data)==False))\n",
    "\n",
    "        ##Way II\n",
    "#         amount = Data[\"Amount\"]\n",
    "#         print (len(amount[~np.isnan(amount)]))"
   ]
  },
  {
   "cell_type": "code",
   "execution_count": 23,
   "metadata": {},
   "outputs": [],
   "source": [
    "# top_ten_consumption = data_volume(1000, Number_types)\n",
    "top_ten_consumption.sort_values(by = 'Amount', ascending=False, ignore_index=True).to_csv(\"material_top_ten.csv\")"
   ]
  },
  {
   "cell_type": "markdown",
   "metadata": {},
   "source": [
    "### Transform daily data to weekly data"
   ]
  },
  {
   "cell_type": "code",
   "execution_count": 26,
   "metadata": {},
   "outputs": [],
   "source": [
    "material_weekly = pd.DataFrame(columns=[\"ID\", \"Amount\"])\n",
    "\n",
    "for Number_type in Number_types:\n",
    "    material = dimension_stone[dimension_stone[\"Number_type\"]==Number_type]\n",
    "\n",
    "\n",
    "    data = pd.merge(dates_data, material, how='left', on='Date')\n",
    "    data = data[\"Amount\"]\n",
    "    weekly_data = dataToWeek(data, step= 7)\n",
    "\n",
    "\n",
    "    new = {\n",
    "        \"ID\" : material[\"Number_type\"].values[0],\n",
    "        \"Amount\" : int(weekly_data.count())\n",
    "    }\n",
    "\n",
    "    material_weekly = material_weekly.append(new,ignore_index=True) \n",
    "\n",
    "        ##Way I\n",
    "#         print (sum(np.isnan(weekly_data)==False))\n",
    "\n",
    "        ##Way II\n",
    "#         amount = Data[\"Amount\"]\n",
    "#         print (len(amount[~np.isnan(amount)]))"
   ]
  },
  {
   "cell_type": "code",
   "execution_count": 27,
   "metadata": {},
   "outputs": [],
   "source": [
    "material_weekly.sort_values(by = 'Amount', ascending=False, ignore_index=True).to_csv(\"material_weekly.csv\", index=False)"
   ]
  },
  {
   "cell_type": "code",
   "execution_count": null,
   "metadata": {},
   "outputs": [],
   "source": []
  }
 ],
 "metadata": {
  "kernelspec": {
   "display_name": "Python 3",
   "language": "python",
   "name": "python3"
  },
  "language_info": {
   "codemirror_mode": {
    "name": "ipython",
    "version": 3
   },
   "file_extension": ".py",
   "mimetype": "text/x-python",
   "name": "python",
   "nbconvert_exporter": "python",
   "pygments_lexer": "ipython3",
   "version": "3.6.9"
  }
 },
 "nbformat": 4,
 "nbformat_minor": 4
}
